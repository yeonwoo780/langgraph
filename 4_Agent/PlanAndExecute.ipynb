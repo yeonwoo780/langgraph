{
 "cells": [
  {
   "cell_type": "code",
   "execution_count": 1,
   "metadata": {},
   "outputs": [
    {
     "data": {
      "text/plain": [
       "'/home/yeonwoo/study'"
      ]
     },
     "execution_count": 1,
     "metadata": {},
     "output_type": "execute_result"
    }
   ],
   "source": [
    "import os\n",
    "os.chdir(\"../../\")\n",
    "os.getcwd()"
   ]
  },
  {
   "cell_type": "code",
   "execution_count": 2,
   "metadata": {},
   "outputs": [],
   "source": [
    "os.environ[\"OPENAI_API_KEY\"] = os.getenv(\"OPENAI_API_KEY\")\n",
    "os.environ[\"TAVILY_API_KEY\"] = os.getenv(\"TAVILY_API_KEY\")"
   ]
  },
  {
   "cell_type": "code",
   "execution_count": 3,
   "metadata": {},
   "outputs": [],
   "source": [
    "from langchain_community.tools.tavily_search import TavilySearchResults\n",
    "\n",
    "tools = [TavilySearchResults(max_results=3)]"
   ]
  },
  {
   "cell_type": "code",
   "execution_count": 4,
   "metadata": {},
   "outputs": [
    {
     "name": "stdout",
     "output_type": "stream",
     "text": [
      "================================\u001b[1m System Message \u001b[0m================================\n",
      "\n",
      "You are a helpful assistant.\n",
      "\n",
      "=============================\u001b[1m Messages Placeholder \u001b[0m=============================\n",
      "\n",
      "\u001b[33;1m\u001b[1;3m{messages}\u001b[0m\n"
     ]
    }
   ],
   "source": [
    "from langchain import hub\n",
    "from langchain_openai import ChatOpenAI\n",
    "\n",
    "from langgraph.prebuilt import create_react_agent\n",
    "\n",
    "# Get the prompt to use - you can modify this!\n",
    "prompt = hub.pull(\"ih/ih-react-agent-executor\")\n",
    "prompt.pretty_print()\n",
    "\n",
    "# Choose the LLM that will drive the agent\n",
    "llm = ChatOpenAI(model=\"gpt-4o-2024-08-06\")\n",
    "agent_executor = create_react_agent(llm, tools, state_modifier=prompt)"
   ]
  },
  {
   "cell_type": "code",
   "execution_count": 6,
   "metadata": {},
   "outputs": [
    {
     "data": {
      "text/plain": [
       "{'messages': [HumanMessage(content='who is the winnner of 2024 League of legend world champion ship', additional_kwargs={}, response_metadata={}, id='b1e85700-65b4-44df-b670-81ca546fb411'),\n",
       "  AIMessage(content='', additional_kwargs={'tool_calls': [{'id': 'call_uG5iPNR1YtaMOVrW1xExJcPs', 'function': {'arguments': '{\"query\":\"2024 League of Legends World Championship winner\"}', 'name': 'tavily_search_results_json'}, 'type': 'function'}], 'refusal': None}, response_metadata={'token_usage': {'completion_tokens': 26, 'prompt_tokens': 101, 'total_tokens': 127, 'completion_tokens_details': {'accepted_prediction_tokens': 0, 'audio_tokens': 0, 'reasoning_tokens': 0, 'rejected_prediction_tokens': 0}, 'prompt_tokens_details': {'audio_tokens': 0, 'cached_tokens': 0}}, 'model_name': 'gpt-4o-2024-08-06', 'system_fingerprint': 'fp_d28bcae782', 'finish_reason': 'tool_calls', 'logprobs': None}, id='run-fa304a2a-225f-458b-992d-25fe44af39ce-0', tool_calls=[{'name': 'tavily_search_results_json', 'args': {'query': '2024 League of Legends World Championship winner'}, 'id': 'call_uG5iPNR1YtaMOVrW1xExJcPs', 'type': 'tool_call'}], usage_metadata={'input_tokens': 101, 'output_tokens': 26, 'total_tokens': 127, 'input_token_details': {'audio': 0, 'cache_read': 0}, 'output_token_details': {'audio': 0, 'reasoning': 0}}),\n",
       "  ToolMessage(content='[{\"url\": \"https://www.tacter.com/lol/guides/t1-wins-the-2024-league-of-legends-world-championship-faker-proves-himself-as-the-goat-27bcee11\", \"content\": \"T1 wins the 2024 League of Legends World Championship, Faker proves himself as the GOAT. for League of Legends (LOL) by Overlay | Tacter T1 wins the 2024 League of Legends World Championship, Faker proves himself as the GOAT. T1 stirred up the online community after making a comeback to defeat Bilibili Gaming (BLG) with a 3-2 score, claiming the championship title at the 2024 League of Legends World Championship. Faker and T1 have won the League of Legends World Championship for the second consecutive time Thus, T1 has now claimed their fifth League of Legends World Championship title in history, with victories in 2013, 2015, 2016, 2023, and 2024—a truly unprecedented achievement. Comments\"}, {\"url\": \"https://insider-gaming.com/lol-worlds-2024-winner/\", \"content\": \"T1 Wins League of Legends World Championship 2024 - Insider Gaming G Gaming World Tour Gaming World Tour T1 had a massive lead on towers and in gold, and it proved to be too much for BLG, with T1 winning the game before a screaming crowd and a kill record of 14 – 9 over BLG. For more Insider Gaming esports, check out the news that an OpTic-FaZe combination won a Black Ops 6 tournament T1’s Faker has secured a 500-kill record at the League of Legends World Championship, which has been accrued over ten years of competitive history. League of Legends just announced the LTA, which is a competitive esports league for the game located only in the Americas.\"}, {\"url\": \"https://en.wikipedia.org/wiki/2024_League_of_Legends_World_Championship\", \"content\": \"Berlin\\'s Riot Games Arena, which is the new studio for the League of Legends EMEA Championship, and the Adidas Arena, one of the venues of the 2024 Summer Olympics, were respectively announced as the venues for the play-in/Swiss stage and the quarterfinals/semifinals on 5 January 2024.[1]\\\\nBoth the Adidas Arena (2024) and the O2 Arena (2012) are the fourth and fifth venues, respectively, to have hosted the Olympic Games and the League of Legends World Championship after the Olympic Gymnastics Arena in Seoul (2014 semifinals), the Beijing National Stadium (2017 final), and the AccorHotels Arena (2019 final), also in Paris.\\\\n The region of the winner of the 2024 Mid-Season Invitational[b] and the next best-performing region in the same tournament will also get an additional spot in the same phase, while two teams from the play-in stage will round up the sixteen teams that will comprise the Swiss stage.[1][4]\\\\nSix teams qualify for the play-in stage: The top two teams of the Pacific Championship Series 2024 Summer playoffs, the top two teams of the VCS 2024 Summer playoffs, the CBLOL 2024 Split 2 champion, and the LLA 2024 Closing playoffs champion.\\\\n Twenty teams will qualify based on placement within their regional leagues and results gained in the 2024 Mid-Season Invitational (MSI).[1]\\\\nThe LCK\\'s T1 are the defending champions.[2][3]\\\\nQualification[edit]\\\\nThe LCK (South Korea), LPL (China), LEC (EMEA), and the LCS (North America) will have three directly qualified teams to the Swiss stage. Contents\\\\n2024 League of Legends World Championship\\\\nThe 2024 League of Legends World Championship is an upcoming esports tournament for the multiplayer online battle arena video game League of Legends. It is the fourteenth iteration of the League of Legends World Championship, an annual international tournament organized by the game\\'s developer, Riot Games.\"}]', name='tavily_search_results_json', id='fb1ff54b-67ad-4b69-856b-8a3233e0f305', tool_call_id='call_uG5iPNR1YtaMOVrW1xExJcPs', artifact={'query': '2024 League of Legends World Championship winner', 'follow_up_questions': None, 'answer': None, 'images': [], 'results': [{'title': 'T1 wins the 2024 League of Legends World Championship, Faker proves ...', 'url': 'https://www.tacter.com/lol/guides/t1-wins-the-2024-league-of-legends-world-championship-faker-proves-himself-as-the-goat-27bcee11', 'content': 'T1 wins the 2024 League of Legends World Championship, Faker proves himself as the GOAT. for League of Legends (LOL) by Overlay | Tacter T1 wins the 2024 League of Legends World Championship, Faker proves himself as the GOAT. T1 stirred up the online community after making a comeback to defeat Bilibili Gaming (BLG) with a 3-2 score, claiming the championship title at the 2024 League of Legends World Championship. Faker and T1 have won the League of Legends World Championship for the second consecutive time Thus, T1 has now claimed their fifth League of Legends World Championship title in history, with victories in 2013, 2015, 2016, 2023, and 2024—a truly unprecedented achievement. Comments', 'score': 0.92794675, 'raw_content': None}, {'title': 'T1 Wins League of Legends World Championship 2024', 'url': 'https://insider-gaming.com/lol-worlds-2024-winner/', 'content': 'T1 Wins League of Legends World Championship 2024 - Insider Gaming G Gaming World Tour Gaming World Tour T1 had a massive lead on towers and in gold, and it proved to be too much for BLG, with T1 winning the game before a screaming crowd and a kill record of 14 – 9 over BLG. For more Insider Gaming esports, check out the news that an OpTic-FaZe combination won a Black Ops 6 tournament T1’s Faker has secured a 500-kill record at the League of Legends World Championship, which has been accrued over ten years of competitive history. League of Legends just announced the LTA, which is a competitive esports league for the game located only in the Americas.', 'score': 0.8803145, 'raw_content': None}, {'title': '2024 League of Legends World Championship - Wikipedia', 'url': 'https://en.wikipedia.org/wiki/2024_League_of_Legends_World_Championship', 'content': \"Berlin's Riot Games Arena, which is the new studio for the League of Legends EMEA Championship, and the Adidas Arena, one of the venues of the 2024 Summer Olympics, were respectively announced as the venues for the play-in/Swiss stage and the quarterfinals/semifinals on 5 January 2024.[1]\\nBoth the Adidas Arena (2024) and the O2 Arena (2012) are the fourth and fifth venues, respectively, to have hosted the Olympic Games and the League of Legends World Championship after the Olympic Gymnastics Arena in Seoul (2014 semifinals), the Beijing National Stadium (2017 final), and the AccorHotels Arena (2019 final), also in Paris.\\n The region of the winner of the 2024 Mid-Season Invitational[b] and the next best-performing region in the same tournament will also get an additional spot in the same phase, while two teams from the play-in stage will round up the sixteen teams that will comprise the Swiss stage.[1][4]\\nSix teams qualify for the play-in stage: The top two teams of the Pacific Championship Series 2024 Summer playoffs, the top two teams of the VCS 2024 Summer playoffs, the CBLOL 2024 Split 2 champion, and the LLA 2024 Closing playoffs champion.\\n Twenty teams will qualify based on placement within their regional leagues and results gained in the 2024 Mid-Season Invitational (MSI).[1]\\nThe LCK's T1 are the defending champions.[2][3]\\nQualification[edit]\\nThe LCK (South Korea), LPL (China), LEC (EMEA), and the LCS (North America) will have three directly qualified teams to the Swiss stage. Contents\\n2024 League of Legends World Championship\\nThe 2024 League of Legends World Championship is an upcoming esports tournament for the multiplayer online battle arena video game League of Legends. It is the fourteenth iteration of the League of Legends World Championship, an annual international tournament organized by the game's developer, Riot Games.\", 'score': 0.751375, 'raw_content': None}], 'response_time': 1.87}),\n",
       "  AIMessage(content=\"The winner of the 2024 League of Legends World Championship is T1. They defeated Bilibili Gaming (BLG) with a 3-2 score to claim the championship title. This marks T1's fifth World Championship title, having previously won in 2013, 2015, 2016, 2023, and now 2024.\", additional_kwargs={'refusal': None}, response_metadata={'token_usage': {'completion_tokens': 77, 'prompt_tokens': 984, 'total_tokens': 1061, 'completion_tokens_details': {'accepted_prediction_tokens': 0, 'audio_tokens': 0, 'reasoning_tokens': 0, 'rejected_prediction_tokens': 0}, 'prompt_tokens_details': {'audio_tokens': 0, 'cached_tokens': 0}}, 'model_name': 'gpt-4o-2024-08-06', 'system_fingerprint': 'fp_9faba9f038', 'finish_reason': 'stop', 'logprobs': None}, id='run-271aae24-a2fb-47a9-b6e0-6029f80a8a0b-0', usage_metadata={'input_tokens': 984, 'output_tokens': 77, 'total_tokens': 1061, 'input_token_details': {'audio': 0, 'cache_read': 0}, 'output_token_details': {'audio': 0, 'reasoning': 0}})]}"
      ]
     },
     "execution_count": 6,
     "metadata": {},
     "output_type": "execute_result"
    }
   ],
   "source": [
    "agent_executor.invoke({\"messages\": [(\"user\", \"who is the winnner of 2024 League of legend world champion ship\")]})"
   ]
  },
  {
   "cell_type": "code",
   "execution_count": 7,
   "metadata": {},
   "outputs": [],
   "source": [
    "import operator\n",
    "from typing import Annotated, List, Tuple\n",
    "from typing_extensions import TypedDict\n",
    "\n",
    "\n",
    "class PlanExecute(TypedDict):\n",
    "    input: str\n",
    "    plan: List[str]\n",
    "    past_steps: Annotated[List[Tuple], operator.add]\n",
    "    response: str"
   ]
  },
  {
   "cell_type": "code",
   "execution_count": 8,
   "metadata": {},
   "outputs": [],
   "source": [
    "from pydantic import BaseModel, Field\n",
    "\n",
    "\n",
    "class Plan(BaseModel):\n",
    "    \"\"\"Plan to follow in future\"\"\"\n",
    "\n",
    "    steps: List[str] = Field(\n",
    "        description=\"different steps to follow, should be in sorted order\"\n",
    "    )"
   ]
  },
  {
   "cell_type": "code",
   "execution_count": 9,
   "metadata": {},
   "outputs": [],
   "source": [
    "# planning step\n",
    "\n",
    "from langchain_core.prompts import ChatPromptTemplate\n",
    "\n",
    "planner_prompt = ChatPromptTemplate.from_messages(\n",
    "    [\n",
    "        (\n",
    "            \"system\",\n",
    "            \"\"\"주어진 목표에 대해 간단한 단계별 계획을 세우십시오. \\\n",
    "이 계획에는 개별 작업이 포함되어야 하며 올바르게 실행되면 정답이 나올 것입니다. 불필요한 단계를 추가하지 마십시오. \\\n",
    "마지막 단계의 결과가 최종 답이 되어야 합니다. 각 단계에 필요한 모든 정보가 포함되어 있는지 확인하세요. 단계를 건너뛰지 마세요.\"\"\",\n",
    "        ),\n",
    "        (\"placeholder\", \"{messages}\"),\n",
    "    ]\n",
    ")\n",
    "planner = planner_prompt | ChatOpenAI(\n",
    "    model=\"gpt-4o-2024-08-06\", temperature=0\n",
    ").with_structured_output(Plan)"
   ]
  },
  {
   "cell_type": "code",
   "execution_count": 11,
   "metadata": {},
   "outputs": [
    {
     "data": {
      "text/plain": [
       "Plan(steps=['Check the official League of Legends website or trusted esports news sources for the latest updates on the 2024 World Championship.', 'Look for the announcement or article that declares the winner of the 2024 League of Legends World Championship.', 'Verify the information from multiple sources to ensure accuracy.', 'Note down the name of the winning team.'])"
      ]
     },
     "execution_count": 11,
     "metadata": {},
     "output_type": "execute_result"
    }
   ],
   "source": [
    "planner.invoke(\n",
    "    {\n",
    "        \"messages\": [\n",
    "            (\"user\", \"who is the winnner of 2024 League of legend world champion ship\")\n",
    "        ]\n",
    "    }\n",
    ")"
   ]
  },
  {
   "cell_type": "code",
   "execution_count": 12,
   "metadata": {},
   "outputs": [],
   "source": [
    "## replan\n",
    "from typing import Union\n",
    "\n",
    "\n",
    "class Response(BaseModel):\n",
    "    \"\"\"Response to user.\"\"\"\n",
    "\n",
    "    response: str\n",
    "\n",
    "\n",
    "class Act(BaseModel):\n",
    "    \"\"\"Action to perform.\"\"\"\n",
    "\n",
    "    action: Union[Response, Plan] = Field(\n",
    "        description=\"Action to perform. If you want to respond to user, use Response. \"\n",
    "        \"If you need to further use tools to get the answer, use Plan.\"\n",
    "    )\n",
    "\n",
    "\n",
    "replanner_prompt = ChatPromptTemplate.from_template(\n",
    "    \"\"\"주어진 목표에 대해 간단한 단계별 계획을 세우십시오. \\\n",
    "이 계획에는 개별 작업이 포함되어야 하며 올바르게 실행되면 정답이 나올 것입니다. 불필요한 단계를 추가하지 마십시오. \\\n",
    "마지막 단계의 결과가 최종 답이 되어야 합니다. 각 단계에 필요한 모든 정보가 포함되어 있는지 확인하세요. 단계를 건너뛰지 마세요.\n",
    "\n",
    "Your objective was this:\n",
    "{input}\n",
    "\n",
    "Your original plan was this:\n",
    "{plan}\n",
    "\n",
    "You have currently done the follow steps:\n",
    "{past_steps}\n",
    "\n",
    "그에 따라 계획을 업데이트하세요. 더 이상 단계가 필요하지 않고 사용자에게 돌아갈 수 있으면 이에 대해 응답하세요. 그렇지 않으면 계획을 작성하십시오. 아직 완료해야 하는 단계만 계획에 추가하세요. 계획의 일부로 이전에 수행한 단계를 반환하지 마세요.\"\"\"\n",
    ")\n",
    "\n",
    "\n",
    "replanner = replanner_prompt | ChatOpenAI(\n",
    "    model=\"gpt-4o-2024-08-06\", temperature=0\n",
    ").with_structured_output(Act)"
   ]
  },
  {
   "cell_type": "code",
   "execution_count": 13,
   "metadata": {},
   "outputs": [],
   "source": [
    "from typing import Literal\n",
    "from langgraph.graph import END\n",
    "\n",
    "\n",
    "async def execute_step(state: PlanExecute):\n",
    "    plan = state[\"plan\"]\n",
    "    plan_str = \"\\n\".join(f\"{i+1}. {step}\" for i, step in enumerate(plan))\n",
    "    task = plan[0]\n",
    "    task_formatted = f\"\"\"For the following plan:\n",
    "{plan_str}\\n\\nYou are tasked with executing step {1}, {task}.\"\"\"\n",
    "    agent_response = await agent_executor.ainvoke(\n",
    "        {\"messages\": [(\"user\", task_formatted)]}\n",
    "    )\n",
    "    return {\n",
    "        \"past_steps\": [(task, agent_response[\"messages\"][-1].content)],\n",
    "    }\n",
    "\n",
    "\n",
    "async def plan_step(state: PlanExecute):\n",
    "    plan = await planner.ainvoke({\"messages\": [(\"user\", state[\"input\"])]})\n",
    "    return {\"plan\": plan.steps}\n",
    "\n",
    "\n",
    "async def replan_step(state: PlanExecute):\n",
    "    output = await replanner.ainvoke(state)\n",
    "    if isinstance(output.action, Response):\n",
    "        return {\"response\": output.action.response}\n",
    "    else:\n",
    "        return {\"plan\": output.action.steps}\n",
    "\n",
    "\n",
    "def should_end(state: PlanExecute):\n",
    "    if \"response\" in state and state[\"response\"]:\n",
    "        return END\n",
    "    else:\n",
    "        return \"agent\""
   ]
  },
  {
   "cell_type": "code",
   "execution_count": 14,
   "metadata": {},
   "outputs": [],
   "source": [
    "from langgraph.graph import StateGraph, START\n",
    "\n",
    "workflow = StateGraph(PlanExecute)\n",
    "\n",
    "# Add the plan node\n",
    "workflow.add_node(\"planner\", plan_step)\n",
    "\n",
    "# Add the execution step\n",
    "workflow.add_node(\"agent\", execute_step)\n",
    "\n",
    "# Add a replan node\n",
    "workflow.add_node(\"replan\", replan_step)\n",
    "\n",
    "workflow.add_edge(START, \"planner\")\n",
    "\n",
    "# From plan we go to agent\n",
    "workflow.add_edge(\"planner\", \"agent\")\n",
    "\n",
    "# From agent, we replan\n",
    "workflow.add_edge(\"agent\", \"replan\")\n",
    "\n",
    "workflow.add_conditional_edges(\n",
    "    \"replan\",\n",
    "    # Next, we pass in the function that will determine which node is called next.\n",
    "    should_end,\n",
    "    [\"agent\", END],\n",
    ")\n",
    "\n",
    "# Finally, we compile it!\n",
    "# This compiles it into a LangChain Runnable,\n",
    "# meaning you can use it as you would any other runnable\n",
    "app = workflow.compile()"
   ]
  },
  {
   "cell_type": "code",
   "execution_count": 15,
   "metadata": {},
   "outputs": [
    {
     "data": {
      "image/png": "[encoded data removed]",
      "text/plain": [
       "<IPython.core.display.Image object>"
      ]
     },
     "metadata": {},
     "output_type": "display_data"
    }
   ],
   "source": [
    "from IPython.display import Image, display\n",
    "\n",
    "display(Image(app.get_graph(xray=True).draw_mermaid_png()))"
   ]
  },
  {
   "cell_type": "code",
   "execution_count": 20,
   "metadata": {},
   "outputs": [
    {
     "name": "stdout",
     "output_type": "stream",
     "text": [
      "{'plan': ['Access the official Kyung Hee University admissions website.', 'Navigate to the section for 2024 admissions information.', 'Locate the specific page or document that lists the admission grade cutoffs for all departments for the 2024 academic year.', \"Extract the relevant data for each department's admission grade cutoff.\", 'Format the extracted data into a markdown table with columns for Department and Grade Cutoff.', 'Ensure the table is correctly formatted and contains all necessary information.']}\n",
      "{'past_steps': [('Access the official Kyung Hee University admissions website.', 'The official Kyung Hee University admissions website can be accessed via the following URL: [Kyung Hee University Admissions](https://iadmission.khu.ac.kr/gglobalcenter/user/contents/view.do?menuNo=8000031).')]}\n",
      "{'plan': ['Navigate to the section for 2024 admissions information on the Kyung Hee University admissions website.', 'Locate the specific page or document that lists the admission grade cutoffs for all departments for the 2024 academic year.', \"Extract the relevant data for each department's admission grade cutoff.\", 'Format the extracted data into a markdown table with columns for Department and Grade Cutoff.', 'Ensure the table is correctly formatted and contains all necessary information.']}\n",
      "{'past_steps': [('Navigate to the section for 2024 admissions information on the Kyung Hee University admissions website.', 'You can find the 2024 admissions information for Kyung Hee University on their [Global Admissions webpage](https://iadmission.khu.ac.kr/gglobalcenter/user/contents/view.do?menuNo=8000031). This page should contain details about the admissions process for the 2024 academic year.')]}\n",
      "{'plan': ['Locate the specific page or document that lists the admission grade cutoffs for all departments for the 2024 academic year on the Kyung Hee University admissions website.', \"Extract the relevant data for each department's admission grade cutoff.\", 'Format the extracted data into a markdown table with columns for Department and Grade Cutoff.', 'Ensure the table is correctly formatted and contains all necessary information.']}\n",
      "{'past_steps': [('Locate the specific page or document that lists the admission grade cutoffs for all departments for the 2024 academic year on the Kyung Hee University admissions website.', \"I couldn't find a specific page or document directly listing the admission grade cutoffs for all departments for the 2024 academic year on the Kyung Hee University admissions website. You may need to visit the [Kyung Hee University admissions website](https://iadmission.khu.ac.kr/gglobalcenter/user/contents/view.do?menuNo=8000031) directly and navigate through their resources, or contact their admissions office for the most accurate and detailed information.\")]}\n",
      "{'plan': ['Contact the Kyung Hee University admissions office directly to request the 2024 admission grade cutoffs for all departments.', \"Once the information is received, extract the relevant data for each department's admission grade cutoff.\", 'Format the extracted data into a markdown table with columns for Department and Grade Cutoff.', 'Ensure the table is correctly formatted and contains all necessary information.']}\n",
      "{'past_steps': [('Contact the Kyung Hee University admissions office directly to request the 2024 admission grade cutoffs for all departments.', 'I am unable to directly contact university offices or perform actions that require interacting with individuals or entities outside of digital tools. However, I can guide you on how to contact the Kyung Hee University admissions office:\\n\\n1. **Visit the Official Website**: Go to the official website of Kyung Hee University. Look for the admissions section.\\n\\n2. **Find Contact Information**: Navigate to the \"Contact Us\" or \"Admissions Office\" page to find their email address, phone number, or inquiry form.\\n\\n3. **Write an Email or Make a Call**: Draft an email or make a phone call requesting the 2024 admission grade cutoffs for all departments. Be sure to provide your full name, the purpose of your inquiry, and any other relevant details they might need.\\n\\n4. **Use Online Inquiry Form**: If available, fill out an online inquiry form with your request.\\n\\nIf you need further assistance with formulating your request or have any other questions, feel free to ask!')]}\n",
      "{'plan': [\"Once the information is received from the Kyung Hee University admissions office, extract the relevant data for each department's admission grade cutoff for 2024.\", 'Format the extracted data into a markdown table with columns for Department and Grade Cutoff.', 'Ensure the table is correctly formatted and contains all necessary information.']}\n",
      "{'past_steps': [(\"Once the information is received from the Kyung Hee University admissions office, extract the relevant data for each department's admission grade cutoff for 2024.\", 'I was unable to find specific information about the 2024 admission grade cutoff for each department at Kyung Hee University. The search results did not contain the detailed data needed for extracting the admission grade cutoffs.\\n\\nTo obtain this information, you may need to directly contact the admissions office of Kyung Hee University or check their official website for any updates or downloadable guides that might contain the necessary details.')]}\n",
      "{'plan': [\"Once the information is received from the Kyung Hee University admissions office, extract the relevant data for each department's admission grade cutoff for 2024.\", 'Format the extracted data into a markdown table with columns for Department and Grade Cutoff.', 'Ensure the table is correctly formatted and contains all necessary information.']}\n",
      "{'past_steps': [(\"Once the information is received from the Kyung Hee University admissions office, extract the relevant data for each department's admission grade cutoff for 2024.\", \"I was unable to find specific information about the 2024 admissions grade cutoff for each department at Kyung Hee University from the available sources. You may need to check directly with the university's official admissions office or website for the most accurate and up-to-date information.\")]}\n",
      "{'plan': [\"Once the information is received from the Kyung Hee University admissions office, extract the relevant data for each department's admission grade cutoff for 2024.\", 'Format the extracted data into a markdown table with columns for Department and Grade Cutoff.', 'Ensure the table is correctly formatted and contains all necessary information.']}\n",
      "{'past_steps': [(\"Once the information is received from the Kyung Hee University admissions office, extract the relevant data for each department's admission grade cutoff for 2024.\", \"I searched for information about the 2024 admission grade cutoff for Kyung Hee University but couldn't find specific details in the search results. The documents and resources available do not seem to contain the specific cutoff grades by department for 2024.\\n\\nYou might need to contact Kyung Hee University's admissions office directly or visit their official website for the most accurate and detailed information regarding the admission grade cutoffs for each department.\")]}\n",
      "{'plan': [\"Once the information is received from the Kyung Hee University admissions office, extract the relevant data for each department's admission grade cutoff for 2024.\", 'Format the extracted data into a markdown table with columns for Department and Grade Cutoff.', 'Ensure the table is correctly formatted and contains all necessary information.']}\n",
      "{'past_steps': [(\"Once the information is received from the Kyung Hee University admissions office, extract the relevant data for each department's admission grade cutoff for 2024.\", \"I couldn't find specific information about the 2024 admission grade cutoffs for each department at Kyung Hee University in the current search results. You might want to check the official Kyung Hee University website or contact their admissions office directly for the most accurate and detailed information.\")]}\n",
      "{'plan': [\"Once the information is received from the Kyung Hee University admissions office, extract the relevant data for each department's admission grade cutoff for 2024.\", 'Format the extracted data into a markdown table with columns for Department and Grade Cutoff.', 'Ensure the table is correctly formatted and contains all necessary information.']}\n",
      "{'past_steps': [(\"Once the information is received from the Kyung Hee University admissions office, extract the relevant data for each department's admission grade cutoff for 2024.\", \"It seems that I couldn't directly find the specific admission grade cutoffs for Kyung Hee University for 2024. The search results provided general information about the admissions process and some associated data, but not the specific grade cutoffs for each department.\\n\\nFor detailed and specific information such as department-wise admission grade cutoffs, it might be necessary to directly access Kyung Hee University's official admissions page or contact their admissions office for the most accurate data. If you have a specific document or a source that contains this information, I can assist you in extracting and formatting the data.\")]}\n",
      "{'plan': [\"Contact Kyung Hee University's admissions office directly to request the 2024 admission grade cutoffs for all departments, as this information is not readily available online.\", \"Once the information is received, extract the relevant data for each department's admission grade cutoff for 2024.\", 'Format the extracted data into a markdown table with columns for Department and Grade Cutoff.', 'Ensure the table is correctly formatted and contains all necessary information.']}\n",
      "{'past_steps': [(\"Contact Kyung Hee University's admissions office directly to request the 2024 admission grade cutoffs for all departments, as this information is not readily available online.\", \"I'm unable to directly contact universities or any entities to request information. However, I can assist you in finding the contact information for Kyung Hee University's admissions office so you can reach out to them. Would you like me to help with that?\")]}\n",
      "{'plan': [\"Once the information is received from the Kyung Hee University admissions office, extract the relevant data for each department's admission grade cutoff for 2024.\", 'Format the extracted data into a markdown table with columns for Department and Grade Cutoff.', 'Ensure the table is correctly formatted and contains all necessary information.']}\n",
      "{'past_steps': [(\"Once the information is received from the Kyung Hee University admissions office, extract the relevant data for each department's admission grade cutoff for 2024.\", \"I attempted to find information regarding the 2024 admission grade cutoffs for each department at Kyung Hee University. However, the search did not yield specific results for each department's grade cutoff data.\\n\\nTo obtain this information, it might be necessary to directly contact the admissions office of Kyung Hee University or visit their official website for the most accurate and detailed data. If you have access to other resources or documents that contain this information, please let me know so I can assist further in extracting and formatting the data.\")]}\n",
      "{'plan': [\"Contact Kyung Hee University's admissions office directly to request the 2024 admission grade cutoffs for all departments, as this information is not readily available online.\", \"Once the information is received from the Kyung Hee University admissions office, extract the relevant data for each department's admission grade cutoff for 2024.\", 'Format the extracted data into a markdown table with columns for Department and Grade Cutoff.', 'Ensure the table is correctly formatted and contains all necessary information.']}\n",
      "{'past_steps': [(\"Contact Kyung Hee University's admissions office directly to request the 2024 admission grade cutoffs for all departments, as this information is not readily available online.\", \"I am unable to directly contact Kyung Hee University's admissions office for you. However, I can guide you on how to do it:\\n\\n1. **Visit the University's Official Website**: Go to Kyung Hee University's official website. Look for the 'Admissions' or 'Contact Us' section.\\n\\n2. **Find Contact Information**: Locate the contact information for the admissions office. This might include an email address, phone number, or a contact form.\\n\\n3. **Draft an Email or Make a Call**: If you find an email address, draft a polite and concise email requesting the 2024 admission grade cutoffs for all departments. If there's a phone number, you can call during their business hours.\\n\\n4. **Use a Contact Form**: If the website provides a contact form, fill it out with your request.\\n\\n5. **Follow Up**: If you don't receive a response within a week, consider following up with another email or call.\\n\\nBy following these steps, you should be able to obtain the information you need from Kyung Hee University's admissions office.\")]}\n",
      "{'response': '현재까지의 진행 상황을 고려할 때, 경희대학교의 2024년 수시 등급컷 정보를 직접적으로 얻을 수 있는 방법은 경희대학교 입학처에 직접 문의하는 것입니다. 이미 안내드린 바와 같이, 경희대학교 공식 웹사이트에서 입학처의 연락처를 찾아 이메일이나 전화로 문의하시는 것이 가장 확실한 방법입니다. \\n\\n이후, 입학처로부터 정보를 받으시면, 해당 데이터를 각 학과의 등급컷 정보로 추출하여 markdown table로 포맷하시면 됩니다. \\n\\n추가적인 도움이 필요하시면 언제든지 말씀해 주세요!'}\n"
     ]
    }
   ],
   "source": [
    "config = {\"recursion_limit\": 50}\n",
    "inputs = {\"input\": \"경희대학교 모든학과의 2024년 수시 등급컷을 markdown table 형태로 markdown table만 제공해줘\"}\n",
    "async for event in app.astream(inputs, config=config):\n",
    "    for k, v in event.items():\n",
    "        if k != \"__end__\":\n",
    "            print(v)"
   ]
  },
  {
   "cell_type": "code",
   "execution_count": null,
   "metadata": {},
   "outputs": [],
   "source": []
  }
 ],
 "metadata": {
  "kernelspec": {
   "display_name": "langgraph",
   "language": "python",
   "name": "python3"
  },
  "language_info": {
   "codemirror_mode": {
    "name": "ipython",
    "version": 3
   },
   "file_extension": ".py",
   "mimetype": "text/x-python",
   "name": "python",
   "nbconvert_exporter": "python",
   "pygments_lexer": "ipython3",
   "version": "undefined.undefined.undefined"
  }
 },
 "nbformat": 4,
 "nbformat_minor": 2
}
