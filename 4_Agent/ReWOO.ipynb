{
 "cells": [
  {
   "cell_type": "markdown",
   "metadata": {},
   "source": [
    "## 관찰 없이 추론하기\n",
    "ReWOO 에서 Xu 등은 효과적인 도구 사용을 위해 다단계 플래너와 변수 대체를 결합한 에이전트를 제안. 다음과 같은 방식으로 ReACT 스타일 에이전트 아키텍처를 개선하도록 설계\n",
    "\n",
    "1. 단일 패스에서 사용되는 전체 도구 체인을 생성하여 토큰 소비와 실행 시간을 줄인다. ( ReACT 스타일 에이전트 아키텍처는 중복된 접두사가 있는 많은 LLM 호출이 필요합니다(시스템 프롬프트와 이전 단계가 각 추론 단계에 대해 LLM에 제공되기 때문 ))\n",
    "2. 미세 조정 프로세스를 간소화한다. 계획 데이터는 도구의 출력에 의존하지 않으므로 실제로 도구를 호출하지 않고도 모델을 미세 조정할 수 있다(이론적으로).\n",
    "\n",
    "다음 다이어그램은 ReWOO의 전반적인 계산 그래프를 간략하게 설명.\n",
    "\n",
    "![image](../image/4_Agent/ReWOO1.png)"
   ]
  },
  {
   "cell_type": "markdown",
   "metadata": {},
   "source": [
    "ReWOO는 3개의 모듈로 구성되어 있습니다.\n",
    "\n",
    "1. 🧠 플래너 : 다음 형식으로 계획을 생성.\n",
    "\n",
    "``` bash\n",
    "Plan: <reasoning>\n",
    "#E1 = Tool[argument for tool]\n",
    "Plan: <reasoning>\n",
    "#E2 = Tool[argument for tool with #E1 variable substitution]\n",
    "...\n",
    "```\n",
    "\n",
    "2. Worker : 제공된 인수로 도구를 실행.\n",
    "\n",
    "3. 🧠 Solver : 도구 관찰을 기반으로 초기 작업에 대한 답을 생성.\n",
    "\n",
    "🧠 이모지가 있는 모듈은 LLM 호출에 의존. 변수 대체를 사용하여 플래너 LLM에 대한 중복 호출을 피한다는 점에 유의."
   ]
  },
  {
   "cell_type": "code",
   "execution_count": 1,
   "metadata": {},
   "outputs": [
    {
     "data": {
      "text/plain": [
       "'/home/yeonwoo/study'"
      ]
     },
     "execution_count": 1,
     "metadata": {},
     "output_type": "execute_result"
    }
   ],
   "source": [
    "import os\n",
    "os.chdir(\"../../\")\n",
    "os.getcwd()"
   ]
  },
  {
   "cell_type": "code",
   "execution_count": 2,
   "metadata": {},
   "outputs": [],
   "source": [
    "os.environ[\"OPENAI_API_KEY\"] = os.getenv(\"OPENAI_API_KEY\")\n",
    "os.environ[\"TAVILY_API_KEY\"] = os.getenv(\"TAVILY_API_KEY\")"
   ]
  },
  {
   "cell_type": "code",
   "execution_count": 3,
   "metadata": {},
   "outputs": [],
   "source": [
    "# 그래프 상태 정의\n",
    "from typing import List\n",
    "from typing_extensions import TypedDict\n",
    "\n",
    "\n",
    "class ReWOO(TypedDict):\n",
    "    task: str\n",
    "    plan_string: str\n",
    "    steps: List\n",
    "    results: dict\n",
    "    result: str"
   ]
  },
  {
   "cell_type": "code",
   "execution_count": 22,
   "metadata": {},
   "outputs": [],
   "source": [
    "from langchain_openai import ChatOpenAI\n",
    "\n",
    "llm = ChatOpenAI(model=\"gpt-4o-2024-08-06\")"
   ]
  },
  {
   "cell_type": "code",
   "execution_count": 23,
   "metadata": {},
   "outputs": [],
   "source": [
    "prompt = \"\"\"다음 작업에서는 문제를 단계별로 해결할 수 있는 계획을 세우세요. \n",
    "각 계획에 대해 증거를 검색하기 위한 도구 입력과 함께 외부 도구를 표시합니다. \n",
    "나중에 도구에서 호출할 수 있는 변수 #E에 증거를 저장할 수 있습니다. (Plan, #E1, Plan, #E2, Plan, ...)\n",
    "\n",
    "도구는 다음 중 하나일 수 있습니다:\n",
    "(1) Google[input]: Google에서 결과를 검색하는 작업자입니다. 짧은 내용을 찾아야 할 때 유용합니다.\n",
    "특정 주제에 대한 간결한 답변. 입력은 검색어여야 합니다.\n",
    "(2) LLM[input]: 당신과 같은 사전 훈련된 LLM입니다. 일반적인 작업을 수행해야 할 때 유용합니다.\n",
    "세계 지식과 상식. 문제 해결에 자신감이 있을 때 우선순위를 정하세요\n",
    "당신 자신. 입력은 모든 명령어가 될 수 있습니다.\n",
    "\n",
    "예를 들어,\n",
    "Task: Thomas, Toby, Rebecca는 일주일에 총 157시간을 일했습니다. Thomas는 x시간 일했어요. Toby는 Thomas가 일한 것의 두 배보다 10시간 적게 일했고, Rebecca는 Toby보다 8시간 적게 일했습니다. Rebecca는 몇 시간 일했습니까?\n",
    "Plan: Thomas가 x시간 일했다면 문제를 대수식으로 번역하고 풀어보세요.\n",
    "with Wolfram Alpha. #E1 = WolframAlpha[Solve x + (2x - 10) + ((2x - 10) - 8) = 157]\n",
    "Plan: 토마스가 몇 시간 일했는지 알아보세요. #E2 = LLM[What is x, given #E1]\n",
    "Plan: 레베카가 일한 시간을 계산하세요. #E3 = Calculator[(2 * #E2 - 10) - 8]\n",
    "\n",
    "Begin! \n",
    "풍부한 세부정보로 계획을 설명하세요. 각 계획 뒤에는 하나의 #E만 와야 합니다.\n",
    "\n",
    "Task: {task}\"\"\""
   ]
  },
  {
   "cell_type": "code",
   "execution_count": 35,
   "metadata": {},
   "outputs": [],
   "source": [
    "task = \"2024년 리그오브레전드의 우승팀인 T1의 미드라이너의 정확한 고향은 어디인가?\""
   ]
  },
  {
   "cell_type": "code",
   "execution_count": 36,
   "metadata": {},
   "outputs": [],
   "source": [
    "result = llm.invoke(prompt.format(task=task))"
   ]
  },
  {
   "cell_type": "code",
   "execution_count": 37,
   "metadata": {},
   "outputs": [
    {
     "name": "stdout",
     "output_type": "stream",
     "text": [
      "Plan: 먼저, T1 팀의 2024년 리그 오브 레전드 우승 여부를 확인합니다. 이는 T1 팀이 실제로 우승했는지 확인하기 위한 첫 번째 단계입니다. #E1 = Google[\"2024 리그 오브 레전드 우승팀 T1\"]\n",
      "\n",
      "Plan: T1의 미드라이너가 누구인지 확인합니다. T1 팀의 미드라이너를 알아야 그의 고향을 찾을 수 있습니다. #E2 = Google[\"T1 리그 오브 레전드 2024 미드라이너\"]\n",
      "\n",
      "Plan: T1 미드라이너의 고향을 확인합니다. 이전 단계에서 찾은 미드라이너의 이름을 사용하여 그 선수의 고향을 검색합니다. #E3 = Google[\"[이름] 고향\"]\n"
     ]
    }
   ],
   "source": [
    "print(result.content)"
   ]
  },
  {
   "cell_type": "code",
   "execution_count": 38,
   "metadata": {},
   "outputs": [],
   "source": [
    "# planner note\n",
    "import re\n",
    "\n",
    "from langchain_core.prompts import ChatPromptTemplate\n",
    "\n",
    "# Regex to match expressions of the form E#... = ...[...]\n",
    "regex_pattern = r\"Plan:\\s*(.+)\\s*(#E\\d+)\\s*=\\s*(\\w+)\\s*\\[([^\\]]+)\\]\"\n",
    "prompt_template = ChatPromptTemplate.from_messages([(\"user\", prompt)])\n",
    "planner = prompt_template | llm\n",
    "\n",
    "\n",
    "def get_plan(state: ReWOO):\n",
    "    task = state[\"task\"]\n",
    "    result = planner.invoke({\"task\": task})\n",
    "    # Find all matches in the sample text\n",
    "    matches = re.findall(regex_pattern, result.content)\n",
    "    return {\"steps\": matches, \"plan_string\": result.content}"
   ]
  },
  {
   "cell_type": "code",
   "execution_count": 39,
   "metadata": {},
   "outputs": [],
   "source": [
    "from langchain_community.tools.tavily_search import TavilySearchResults\n",
    "\n",
    "search = TavilySearchResults()"
   ]
  },
  {
   "cell_type": "code",
   "execution_count": 40,
   "metadata": {},
   "outputs": [],
   "source": [
    "def _get_current_task(state: ReWOO):\n",
    "    if \"results\" not in state or state[\"results\"] is None:\n",
    "        return 1\n",
    "    if len(state[\"results\"]) == len(state[\"steps\"]):\n",
    "        return None\n",
    "    else:\n",
    "        return len(state[\"results\"]) + 1\n",
    "\n",
    "\n",
    "def tool_execution(state: ReWOO):\n",
    "    \"\"\"Worker node that executes the tools of a given plan.\"\"\"\n",
    "    _step = _get_current_task(state)\n",
    "    _, step_name, tool, tool_input = state[\"steps\"][_step - 1]\n",
    "    _results = (state[\"results\"] or {}) if \"results\" in state else {}\n",
    "    for k, v in _results.items():\n",
    "        tool_input = tool_input.replace(k, v)\n",
    "    if tool == \"Google\":\n",
    "        result = search.invoke(tool_input)\n",
    "    elif tool == \"LLM\":\n",
    "        result = llm.invoke(tool_input)\n",
    "    else:\n",
    "        raise ValueError\n",
    "    _results[step_name] = str(result)\n",
    "    return {\"results\": _results}"
   ]
  },
  {
   "cell_type": "code",
   "execution_count": 41,
   "metadata": {},
   "outputs": [],
   "source": [
    "solve_prompt = \"\"\"다음 작업이나 문제를 해결하세요. \n",
    "문제를 해결하기 위해 단계별 계획을 수립하고 각 계획에 해당하는 증거를 검색했습니다.\n",
    "긴 증거에는 관련 없는 정보가 포함될 수 있으므로 주의해서 사용하세요.\n",
    "\n",
    "{plan}\n",
    "\n",
    "이제 위에 제공된 증거에 따라 질문이나 작업을 해결하십시오. 추가 단어 없이 직접 답변해 보세요.\n",
    "\n",
    "Task: {task}\n",
    "Response:\"\"\"\n",
    "\n",
    "\n",
    "def solve(state: ReWOO):\n",
    "    plan = \"\"\n",
    "    for _plan, step_name, tool, tool_input in state[\"steps\"]:\n",
    "        _results = (state[\"results\"] or {}) if \"results\" in state else {}\n",
    "        for k, v in _results.items():\n",
    "            tool_input = tool_input.replace(k, v)\n",
    "            step_name = step_name.replace(k, v)\n",
    "        plan += f\"Plan: {_plan}\\n{step_name} = {tool}[{tool_input}]\"\n",
    "    prompt = solve_prompt.format(plan=plan, task=state[\"task\"])\n",
    "    result = llm.invoke(prompt)\n",
    "    return {\"result\": result.content}"
   ]
  },
  {
   "cell_type": "code",
   "execution_count": 42,
   "metadata": {},
   "outputs": [],
   "source": [
    "def _route(state):\n",
    "    _step = _get_current_task(state)\n",
    "    if _step is None:\n",
    "        # We have executed all tasks\n",
    "        return \"solve\"\n",
    "    else:\n",
    "        # We are still executing tasks, loop back to the \"tool\" node\n",
    "        return \"tool\""
   ]
  },
  {
   "cell_type": "code",
   "execution_count": 43,
   "metadata": {},
   "outputs": [],
   "source": [
    "from langgraph.graph import END, StateGraph, START\n",
    "\n",
    "graph = StateGraph(ReWOO)\n",
    "graph.add_node(\"plan\", get_plan)\n",
    "graph.add_node(\"tool\", tool_execution)\n",
    "graph.add_node(\"solve\", solve)\n",
    "graph.add_edge(\"plan\", \"tool\")\n",
    "graph.add_edge(\"solve\", END)\n",
    "graph.add_conditional_edges(\"tool\", _route)\n",
    "graph.add_edge(START, \"plan\")\n",
    "\n",
    "app = graph.compile()"
   ]
  },
  {
   "cell_type": "code",
   "execution_count": 44,
   "metadata": {},
   "outputs": [
    {
     "name": "stdout",
     "output_type": "stream",
     "text": [
      "{'plan': {'plan_string': 'Plan: 2024년 리그오브레전드 우승팀인 T1의 미드라이너가 누구인지 확인합니다. #E1 = Google[\"2024 League of Legends T1 mid laner\"]\\n\\nPlan: #E1에서 얻은 정보에 따라 해당 선수의 고향을 찾습니다. #E2 = Google[\"[Player Name] hometown\"]', 'steps': [('2024년 리그오브레전드 우승팀인 T1의 미드라이너가 누구인지 확인합니다. ', '#E1', 'Google', '\"2024 League of Legends T1 mid laner\"'), ('#E1에서 얻은 정보에 따라 해당 선수의 고향을 찾습니다. ', '#E2', 'Google', '\"[Player Name')]}}\n",
      "---\n",
      "{'tool': {'results': {'#E1': '[{\\'url\\': \\'https://www.reddit.com/r/SKTT1/comments/1grqx2z/t1_roster_megathread/\\', \\'content\\': \\'Nov 15, 2024 · T1 League of Legends ; Faker, Lee Sang-hyeok (이상혁), Mid Laner ; Gumayusi, Lee Min-hyeong (이민형), Bot Laner ; Keria, Ryu Min-seok (류민석)\\\\xa0...T1 vs. HLE / LCK 2024 Summer - Week 5 / Post Match DiscussionT1 Faker is the 2nd greatest mid-laner : r/leagueoflegends - RedditEvery Mid Laner tournament wins after Worlds 2024. The faded ...All trophies won by each mid laner, after Worlds 2024 - RedditMore results from www.reddit.com\\'}, {\\'url\\': \\'https://ggboost.com/blog/post/lol-t1-2024-roster\\', \\'content\\': \"Nov 23, 2023 · What is T1\\'s Roster for 2024? · Top Lane - Choi “Zeus” Woo-je · Jungle - Mun “Oner” Hyeon-jun · Mid Lane - Lee “Faker” Sang-hyeok · Bot Lane - Lee “\\\\xa0...Resilience And Redemption · The Long-Awaited Reveal · The Journey To Victory\"}, {\\'url\\': \\'https://www.gameleap.com/articles/new-t1-roster-confirmed-for-lck-2025-season\\', \\'content\\': \\'Nov 20, 2024 · Top Lane - Doran; Jungler - Oner; Mid Lane - Faker; Bot Lane - Gumayusi; Support - Keria. Despite the overwhelming amount of support coming from\\'}, {\\'url\\': \\'https://www.oneesports.gg/league-of-legends/t1-roster-2024-season/\\', \\'content\\': \\'Nov 23, 2023 · T1 ROSTER FOR LCK 2024, ROLE ; Choi “Zeus” Woo-je, Top lane ; Mun “Oner” Hyeon-jun, Jungle ; Lee “Faker” Sang-hyeok, Mid lane ; Lee “Gumayusi” Min-\\'}, {\\'url\\': \\'https://lol.fandom.com/wiki/T1_Esports_Academy_Rookies\\', \\'content\\': \\'KR. Crow, Kim Seung-woo (김승우), Mid Laner. Aug 20242024-08-02. Abyss and. Crow join. KR. Hwichan, Jeong Hwi-chan (정휘찬), Mid Laner. Feb 20242024-02-20.\\'}]'}}}\n",
      "---\n",
      "{'tool': {'results': {'#E1': '[{\\'url\\': \\'https://www.reddit.com/r/SKTT1/comments/1grqx2z/t1_roster_megathread/\\', \\'content\\': \\'Nov 15, 2024 · T1 League of Legends ; Faker, Lee Sang-hyeok (이상혁), Mid Laner ; Gumayusi, Lee Min-hyeong (이민형), Bot Laner ; Keria, Ryu Min-seok (류민석)\\\\xa0...T1 vs. HLE / LCK 2024 Summer - Week 5 / Post Match DiscussionT1 Faker is the 2nd greatest mid-laner : r/leagueoflegends - RedditEvery Mid Laner tournament wins after Worlds 2024. The faded ...All trophies won by each mid laner, after Worlds 2024 - RedditMore results from www.reddit.com\\'}, {\\'url\\': \\'https://ggboost.com/blog/post/lol-t1-2024-roster\\', \\'content\\': \"Nov 23, 2023 · What is T1\\'s Roster for 2024? · Top Lane - Choi “Zeus” Woo-je · Jungle - Mun “Oner” Hyeon-jun · Mid Lane - Lee “Faker” Sang-hyeok · Bot Lane - Lee “\\\\xa0...Resilience And Redemption · The Long-Awaited Reveal · The Journey To Victory\"}, {\\'url\\': \\'https://www.gameleap.com/articles/new-t1-roster-confirmed-for-lck-2025-season\\', \\'content\\': \\'Nov 20, 2024 · Top Lane - Doran; Jungler - Oner; Mid Lane - Faker; Bot Lane - Gumayusi; Support - Keria. Despite the overwhelming amount of support coming from\\'}, {\\'url\\': \\'https://www.oneesports.gg/league-of-legends/t1-roster-2024-season/\\', \\'content\\': \\'Nov 23, 2023 · T1 ROSTER FOR LCK 2024, ROLE ; Choi “Zeus” Woo-je, Top lane ; Mun “Oner” Hyeon-jun, Jungle ; Lee “Faker” Sang-hyeok, Mid lane ; Lee “Gumayusi” Min-\\'}, {\\'url\\': \\'https://lol.fandom.com/wiki/T1_Esports_Academy_Rookies\\', \\'content\\': \\'KR. Crow, Kim Seung-woo (김승우), Mid Laner. Aug 20242024-08-02. Abyss and. Crow join. KR. Hwichan, Jeong Hwi-chan (정휘찬), Mid Laner. Feb 20242024-02-20.\\'}]', '#E2': '[{\\'url\\': \\'https://www.curseforge.com/minecraft/mc-mods/player-names\\', \\'content\\': \"Player Names. A lightweight mod introducing a simple yet powerful command for customising player and entity names. Features. Custom names for players & entities. Roleplay with proper names, rather than being limited by Minecraft\\'s usernames; Required client-side due to the way player names are fetched on the client; Easy to use with the /name\"}, {\\'url\\': \\'https://inspirogenerator.com/player-name-generator/\\', \\'content\\': \"The Player Name Generator is a valuable tool for gamers looking to elevate their gaming experience and create a memorable virtual identity. With a wide range of creative and personalized names at your fingertips, you can immerse yourself fully in the gaming world and forge connections with fellow gamers. So, whether you\\'re embarking on epic\"}, {\\'url\\': \\'https://namegen.com/people/player\\', \\'content\\': \\'Our Player Name Generator is designed to assist you in finding a name that enhances your gaming identity. Instant Mode allows you to quickly generate player names by simply entering a keyword. This keyword should encapsulate something relevant to the player name you desire—be it your favorite activities, a personal nickname, or a trait you\\'}, {\\'url\\': \\'https://inspirogenerator.com/my-player-name-generator/\\', \\'content\\': \"The My Player Name Generator is a tool designed to help gamers create memorable aliases for their characters, adding personality and flair to their gameplay. Importance. In the vast landscape of online gaming, a distinctive name can make you stand out from the crowd. Whether you\\'re exploring fantastical realms, battling against rivals, or\"}, {\\'url\\': \\'https://www.spigotmc.org/threads/player_name-placeholder-not-working.340903/\\', \\'content\\': \"Hello Spigot, In my deluxechat and menus plugin configs, I\\'m using the %player_name% and %recipient_player__name% placeholders and it isn\\'t working.\"}]'}}}\n",
      "---\n",
      "{'solve': {'result': '이상혁 (Faker)은 대한민국 서울 출신입니다.'}}\n",
      "---\n"
     ]
    }
   ],
   "source": [
    "for s in app.stream({\"task\": task}):\n",
    "    print(s)\n",
    "    print(\"---\")"
   ]
  },
  {
   "cell_type": "code",
   "execution_count": 45,
   "metadata": {},
   "outputs": [
    {
     "name": "stdout",
     "output_type": "stream",
     "text": [
      "이상혁 (Faker)은 대한민국 서울 출신입니다.\n"
     ]
    }
   ],
   "source": [
    "print(s[\"solve\"][\"result\"])"
   ]
  },
  {
   "cell_type": "code",
   "execution_count": null,
   "metadata": {},
   "outputs": [],
   "source": []
  }
 ],
 "metadata": {
  "kernelspec": {
   "display_name": "langgraph",
   "language": "python",
   "name": "python3"
  },
  "language_info": {
   "codemirror_mode": {
    "name": "ipython",
    "version": 3
   },
   "file_extension": ".py",
   "mimetype": "text/x-python",
   "name": "python",
   "nbconvert_exporter": "python",
   "pygments_lexer": "ipython3",
   "version": "3.11.10"
  }
 },
 "nbformat": 4,
 "nbformat_minor": 2
}
